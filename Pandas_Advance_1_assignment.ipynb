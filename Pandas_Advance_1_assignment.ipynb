{
 "cells": [
  {
   "cell_type": "code",
   "execution_count": 1,
   "id": "d0a42ad4-173e-4e4f-bd17-9cb183ecf9d1",
   "metadata": {},
   "outputs": [],
   "source": [
    "#Q1\n",
    "import pandas as pd"
   ]
  },
  {
   "cell_type": "code",
   "execution_count": 3,
   "id": "ec2ff627-b998-4b5b-88c8-8e3f52e82e0f",
   "metadata": {},
   "outputs": [
    {
     "name": "stdout",
     "output_type": "stream",
     "text": [
      "    x   y\n",
      "0  45  48\n",
      "1  46  49\n"
     ]
    }
   ],
   "source": [
    "#head():display the first few rows of a DataFrame. \n",
    "df = pd.DataFrame({'x': [45, 46, 47], 'y': [48, 49, 50]})\n",
    "print(df.head(2))"
   ]
  },
  {
   "cell_type": "code",
   "execution_count": 5,
   "id": "25b402ff-de3c-41fd-b2ec-479e780d66c0",
   "metadata": {},
   "outputs": [
    {
     "name": "stdout",
     "output_type": "stream",
     "text": [
      "    name         email_id  phone_number\n",
      "0   sudh   sudh@gmail.com        943525\n",
      "1  krish  krish@gmail.com       9786745\n"
     ]
    }
   ],
   "source": [
    "#read_csv():read a CSV file and create a DataFrame object. \n",
    "df1 = pd.read_csv('data.csv')\n",
    "print(df1)\n"
   ]
  },
  {
   "cell_type": "code",
   "execution_count": 10,
   "id": "e8c684bb-7ef5-41fe-b93b-db03427c6a4d",
   "metadata": {},
   "outputs": [
    {
     "name": "stdout",
     "output_type": "stream",
     "text": [
      "B     one  two\n",
      "A             \n",
      "asap  NaN  4.0\n",
      "ford  1.0  NaN\n",
      "lose  3.0  NaN\n",
      "must  NaN  2.0\n"
     ]
    }
   ],
   "source": [
    "#pivot_table():create a pivot table from a DataFrame.\n",
    "df2 = pd.DataFrame({'A': ['ford', 'must', 'lose', 'asap'], 'B': ['one', 'two', 'one', 'two'], 'C': [1, 2, 3, 4]})\n",
    "piv = df2.pivot_table(values='C', index='A', columns='B', aggfunc='mean')\n",
    "print(piv)"
   ]
  },
  {
   "cell_type": "code",
   "execution_count": 14,
   "id": "5a892506-8410-4828-978c-b1a084b5f1db",
   "metadata": {},
   "outputs": [
    {
     "name": "stdout",
     "output_type": "stream",
     "text": [
      "     B\n",
      "A     \n",
      "17  41\n",
      "18  75\n",
      "19  96\n",
      "20  97\n"
     ]
    }
   ],
   "source": [
    "#groupby(): group the rows of a DataFrame based on one or more columns, and then apply an aggregation function to each group.\n",
    "df3 = pd.DataFrame({'A': [17, 18, 19, 20], 'B': [41, 75, 96, 97]})\n",
    "group = df3.groupby('A').sum()\n",
    "print(group)"
   ]
  },
  {
   "cell_type": "code",
   "execution_count": 21,
   "id": "c3470d15-b983-4158-b4bb-48aaf843688a",
   "metadata": {},
   "outputs": [
    {
     "name": "stdout",
     "output_type": "stream",
     "text": [
      "    A   B\n",
      "0  17  41\n",
      "1  18  75\n",
      "2  19  96\n",
      "3  20  97\n"
     ]
    }
   ],
   "source": [
    "#fillna()-Fill missing values in the 'Age' column with the mean age\n",
    "df3['A'].fillna(df3['A'].mean(), inplace=True)\n",
    "print(df3.head())\n"
   ]
  },
  {
   "cell_type": "code",
   "execution_count": 22,
   "id": "fd785b1d-8a91-449b-8d67-c4b305b0eb2c",
   "metadata": {},
   "outputs": [
    {
     "name": "stdout",
     "output_type": "stream",
     "text": [
      "    A   B   C\n",
      "1  10  40  70\n",
      "3  20  50  80\n",
      "5  30  60  90\n"
     ]
    }
   ],
   "source": [
    "#Q2\n",
    "def reindex_dataframe(df):\n",
    "    new_index = range(1, len(df) * 2, 2) \n",
    "    df = df.copy() \n",
    "    df.index = new_index\n",
    "    return df\n",
    "\n",
    "data = {'A': [10, 20, 30], 'B': [40, 50, 60], 'C': [70, 80, 90]}\n",
    "df = pd.DataFrame(data)\n",
    "\n",
    "new_df = reindex_dataframe(df)\n",
    "print(new_df)\n"
   ]
  },
  {
   "cell_type": "code",
   "execution_count": 24,
   "id": "0c174d1b-00d0-4230-adc5-8462a1d55fb4",
   "metadata": {},
   "outputs": [],
   "source": [
    "#Q3\n",
    "def calculate_sum_of_first_three(df):\n",
    "    values_column = df['Values']\n",
    "    sum_first_three = values_column.head(3).sum()\n",
    "    print(\"Sum of the first three values:\", sum_first_three)\n",
    "\n",
    "data = {'Values': [150, 220, 530, 140, 650]}\n",
    "df = pd.DataFrame(data)\n",
    "\n",
    "\n"
   ]
  },
  {
   "cell_type": "code",
   "execution_count": 32,
   "id": "60c454ce-0ac6-4067-baad-20e4d72fe9c6",
   "metadata": {},
   "outputs": [],
   "source": [
    "data = {'Values': [10, 20, 30, 40, 50]}\n",
    "df4 = pd.DataFrame(data)\n"
   ]
  },
  {
   "cell_type": "code",
   "execution_count": 29,
   "id": "3eabc4cc-67c4-4c42-ac73-f2cbe8f9d1a1",
   "metadata": {},
   "outputs": [],
   "source": [
    "def calculate_sum_of_first_three(df):\n",
    "    values_column = df['Values']\n",
    "    sum_first_three = values_column.head(3).sum()\n",
    "    print(\"Sum of the first three values:\", sum_first_three)"
   ]
  },
  {
   "cell_type": "code",
   "execution_count": 33,
   "id": "f0fec7cf-27da-4427-99da-ab1f58f012fb",
   "metadata": {},
   "outputs": [
    {
     "name": "stdout",
     "output_type": "stream",
     "text": [
      "Sum of the first three values: 60\n"
     ]
    }
   ],
   "source": [
    "calculate_sum_of_first_three(df4)"
   ]
  },
  {
   "cell_type": "code",
   "execution_count": 37,
   "id": "684e42f7-1eab-4520-a09c-cad18030fe68",
   "metadata": {},
   "outputs": [
    {
     "name": "stdout",
     "output_type": "stream",
     "text": [
      "         Text  Word_Count\n",
      "0    pwskills           1\n",
      "1  assignment           1\n"
     ]
    }
   ],
   "source": [
    "#Q4\n",
    "def add_word_count(df5):\n",
    "    df5['Word_Count'] = df5['Text'].apply(lambda x: len(str(x).split()))\n",
    "    return df5\n",
    "\n",
    "df5 = pd.DataFrame({'Text': ['pwskills', 'assignment']})\n",
    "df5 = add_word_count(df5)\n",
    "print(df5)"
   ]
  },
  {
   "cell_type": "markdown",
   "id": "6ddf32ee-d493-48da-85f8-15165fa9b784",
   "metadata": {},
   "source": [
    "#Q5\n",
    "DataFrame.size and DataFrame.shape are both attributes in Pandas DataFrames, but they provide different kinds of information about the DataFrame's dimensions:\n",
    "\n",
    "DataFrame.size:\n",
    "This attribute returns the total number of elements in the DataFrame, which is calculated as the product of the number of rows and the number of columns.\n",
    "It provides a single integer value representing the total number of elements, regardless of how they are arranged.\n",
    "The size attribute gives you the total count of cells in the DataFrame.\n",
    "\n",
    "DataFrame.shape:\n",
    "This attribute returns a tuple representing the dimensions of the DataFrame.\n",
    "The tuple contains two values: the number of rows and the number of columns, respectively.\n",
    "It provides a clearer picture of the DataFrame's structure."
   ]
  },
  {
   "cell_type": "markdown",
   "id": "9e2edd97-33a5-4331-b7f8-cc08ac5ec531",
   "metadata": {},
   "source": [
    "#Q6\n",
    "pd.read_excel() function is used to read an excel file."
   ]
  },
  {
   "cell_type": "code",
   "execution_count": 38,
   "id": "35af8860-5f57-4770-964a-48445811299e",
   "metadata": {},
   "outputs": [
    {
     "name": "stdout",
     "output_type": "stream",
     "text": [
      "             Email Username\n",
      "0   sach@gmail.com     sach\n",
      "1  sona@egmail.com     sona\n"
     ]
    }
   ],
   "source": [
    "#Q7\n",
    "def add_username(df6):\n",
    "    df6['Username'] = df6['Email'].apply(lambda x: x.split('@')[0])\n",
    "    return df6\n",
    "\n",
    "df6 = pd.DataFrame({'Email': ['sach@gmail.com', 'sona@egmail.com']})\n",
    "df6 = add_username(df6)\n",
    "print(df6)"
   ]
  },
  {
   "cell_type": "code",
   "execution_count": 41,
   "id": "041552af-f833-40b1-8e7c-49626fd795d2",
   "metadata": {},
   "outputs": [
    {
     "name": "stdout",
     "output_type": "stream",
     "text": [
      "   A  B  C\n",
      "1  8  2  7\n",
      "2  6  9  4\n",
      "4  9  1  2\n"
     ]
    }
   ],
   "source": [
    "#Q8\n",
    "\n",
    "def select_rows(df):\n",
    "    selected_df = df[(df['A'] > 5) & (df['B'] < 10)]\n",
    "    return selected_df\n",
    "\n",
    "df = pd.DataFrame({\n",
    "    'A': [3, 8, 6, 2, 9],\n",
    "    'B': [5, 2, 9, 3, 1],\n",
    "    'C': [1, 7, 4, 5, 2]\n",
    "})\n",
    "\n",
    "selected_df = select_rows(df)\n",
    "\n",
    "print(selected_df)"
   ]
  },
  {
   "cell_type": "code",
   "execution_count": null,
   "id": "ad50db53-e58b-4899-9df4-08ad1627e798",
   "metadata": {},
   "outputs": [],
   "source": []
  }
 ],
 "metadata": {
  "kernelspec": {
   "display_name": "Python 3 (ipykernel)",
   "language": "python",
   "name": "python3"
  },
  "language_info": {
   "codemirror_mode": {
    "name": "ipython",
    "version": 3
   },
   "file_extension": ".py",
   "mimetype": "text/x-python",
   "name": "python",
   "nbconvert_exporter": "python",
   "pygments_lexer": "ipython3",
   "version": "3.10.8"
  }
 },
 "nbformat": 4,
 "nbformat_minor": 5
}
